{
 "cells": [
  {
   "cell_type": "markdown",
   "metadata": {},
   "source": [
    "# Import"
   ]
  },
  {
   "cell_type": "code",
   "execution_count": null,
   "metadata": {},
   "outputs": [],
   "source": [
    "from kafka import KafkaConsumer\n",
    "from hdfs import InsecureClient"
   ]
  },
  {
   "cell_type": "markdown",
   "metadata": {},
   "source": [
    "# Kafka Initialization"
   ]
  },
  {
   "cell_type": "code",
   "execution_count": null,
   "metadata": {},
   "outputs": [],
   "source": [
    "# Kafka Configuration\n",
    "kafka_broker = \"localhost:9092\"  # Update with your Kafka broker address\n",
    "kafka_topic = \"dementia_data\"    # Define your Kafka topic\n",
    "group_id = \"dementia_group\"      # Define your Kafka consumer group\n",
    "\n",
    "# HDFS Configuration\n",
    "hdfs_url = \"http://localhost:50070\"         # Update with your HDFS URL\n",
    "hdfs_path = \"home/usr/current/hdfs/dimentia_model/\"      # Update with your HDFS directory"
   ]
  },
  {
   "cell_type": "markdown",
   "metadata": {},
   "source": [
    "# Data Ingestion into HDFS distributed storage"
   ]
  },
  {
   "cell_type": "code",
   "execution_count": null,
   "metadata": {},
   "outputs": [
    {
     "name": "stdout",
     "output_type": "stream",
     "text": [
      "Data successfully written to HDFS!\n"
     ]
    }
   ],
   "source": [
    "# Initialize Kafka Consumer\n",
    "consumer = KafkaConsumer(\n",
    "    kafka_topic,\n",
    "    bootstrap_servers=kafka_broker,\n",
    "    group_id=group_id,\n",
    "    auto_offset_reset='earliest'\n",
    ")\n",
    "\n",
    "# Initialize HDFS Client\n",
    "client = InsecureClient(hdfs_url, user=\"hdfs\")\n",
    "\n",
    "# Consume data from Kafka and write to HDFS\n",
    "print(f\"Writing Kafka data to HDFS at {hdfs_path}...\")\n",
    "hdfs_file = hdfs_path + \"JanBDRcount.raw\"\n",
    "with client.write(hdfs_file, overwrite=True, encoding='utf-8') as writer:\n",
    "    for message in consumer:\n",
    "        writer.write(message.value.decode('utf-8') + \"\\n\")\n",
    "        print(f\"Written: {message.value.decode('utf-8')}\")\n",
    "\n",
    "print(\"Data successfully written to HDFS!\")"
   ]
  }
 ],
 "metadata": {
  "kernelspec": {
   "display_name": "Python 3",
   "language": "python",
   "name": "python3"
  },
  "language_info": {
   "codemirror_mode": {
    "name": "ipython",
    "version": 3
   },
   "file_extension": ".py",
   "mimetype": "text/x-python",
   "name": "python",
   "nbconvert_exporter": "python",
   "pygments_lexer": "ipython3",
   "version": "3.10.0"
  }
 },
 "nbformat": 4,
 "nbformat_minor": 2
}
